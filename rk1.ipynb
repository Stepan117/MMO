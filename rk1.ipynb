{
 "cells": [
  {
   "attachments": {},
   "cell_type": "markdown",
   "metadata": {},
   "source": [
    "## Рубежный контроль №1.\n",
    "### ИУ5-22М Овчинников С.С. Вариант 14.\n",
    "#### Задание для И5-22М\n",
    "Для произвольной колонки данных построить гистограмму.\n",
    "#### Задание №14\n",
    "Для набора данных проведите нормализацию для одного (произвольного) числового признака с использованием функции \"квадратный корень\".\n",
    "#### Задание №34\n",
    "Для набора данных проведите процедуру отбора признаков (feature selection). Используйте метод вложений (embedded method). Используйте подход на основе линейной или логистической регрессии (в зависимости от того, на решение какой задачи ориентирован выбранный Вами набор данных - задачи регрессии или задачи классификации)."
   ]
  },
  {
   "cell_type": "code",
   "execution_count": 56,
   "metadata": {},
   "outputs": [],
   "source": [
    "import numpy as np\n",
    "import pandas as pd\n",
    "import seaborn as sns\n",
    "import matplotlib.pyplot as plt\n",
    "import scipy.stats as stats\n",
    "from sklearn.linear_model import LogisticRegression\n",
    "from sklearn.feature_selection import SelectFromModel\n",
    "from sklearn.datasets import load_wine"
   ]
  },
  {
   "cell_type": "code",
   "execution_count": 57,
   "metadata": {},
   "outputs": [
    {
     "data": {
      "text/plain": [
       "alcohol                         float64\n",
       "malic_acid                      float64\n",
       "ash                             float64\n",
       "alcalinity_of_ash               float64\n",
       "magnesium                       float64\n",
       "total_phenols                   float64\n",
       "flavanoids                      float64\n",
       "nonflavanoid_phenols            float64\n",
       "proanthocyanins                 float64\n",
       "color_intensity                 float64\n",
       "hue                             float64\n",
       "od280/od315_of_diluted_wines    float64\n",
       "proline                         float64\n",
       "dtype: object"
      ]
     },
     "execution_count": 57,
     "metadata": {},
     "output_type": "execute_result"
    }
   ],
   "source": [
    "load = load_wine(as_frame=True)\n",
    "X = load.data\n",
    "Y = load.target\n",
    "data = pd.DataFrame(data=load['data'], columns=load['feature_names'])\n",
    "data.dtypes"
   ]
  },
  {
   "attachments": {},
   "cell_type": "markdown",
   "metadata": {},
   "source": [
    "### Нормализация числового признака с использованием функции \"квадратный корень\"\n",
    "Гистограмма столбца \"color_intensity\" до использования функции \"квадратный корень\""
   ]
  },
  {
   "cell_type": "code",
   "execution_count": 58,
   "metadata": {},
   "outputs": [
    {
     "data": {
      "text/plain": [
       "(array([ 2., 10., 14., 17., 15., 13., 13., 14., 15., 15.,  9.,  5.,  7.,\n",
       "         7.,  2.,  5.,  3.,  4.,  1.,  3.,  2.,  0.,  1.,  0.,  1.]),\n",
       " array([ 1.28  ,  1.7488,  2.2176,  2.6864,  3.1552,  3.624 ,  4.0928,\n",
       "         4.5616,  5.0304,  5.4992,  5.968 ,  6.4368,  6.9056,  7.3744,\n",
       "         7.8432,  8.312 ,  8.7808,  9.2496,  9.7184, 10.1872, 10.656 ,\n",
       "        11.1248, 11.5936, 12.0624, 12.5312, 13.    ]),\n",
       " <BarContainer object of 25 artists>)"
      ]
     },
     "execution_count": 58,
     "metadata": {},
     "output_type": "execute_result"
    },
    {
     "data": {
      "image/png": "[encoded data removed]",
      "text/plain": [
       "<Figure size 432x288 with 1 Axes>"
      ]
     },
     "metadata": {
      "needs_background": "light"
     },
     "output_type": "display_data"
    }
   ],
   "source": [
    "plt.hist(data['color_intensity'], bins=25)"
   ]
  },
  {
   "attachments": {},
   "cell_type": "markdown",
   "metadata": {},
   "source": [
    "Использование функции \"квадратный корень\""
   ]
  },
  {
   "cell_type": "code",
   "execution_count": 59,
   "metadata": {},
   "outputs": [
    {
     "data": {
      "text/plain": [
       "(array([ 1.,  1.,  4.,  7., 11., 14., 12.,  8., 13., 10., 14., 13., 18.,\n",
       "        10.,  5.,  8.,  8.,  2.,  6.,  4.,  4.,  3.,  0.,  1.,  1.]),\n",
       " array([1.13137085, 1.23033807, 1.32930528, 1.4282725 , 1.52723972,\n",
       "        1.62620694, 1.72517415, 1.82414137, 1.92310859, 2.0220758 ,\n",
       "        2.12104302, 2.22001024, 2.31897745, 2.41794467, 2.51691189,\n",
       "        2.61587911, 2.71484632, 2.81381354, 2.91278076, 3.01174797,\n",
       "        3.11071519, 3.20968241, 3.30864962, 3.40761684, 3.50658406,\n",
       "        3.60555128]),\n",
       " <BarContainer object of 25 artists>)"
      ]
     },
     "execution_count": 59,
     "metadata": {},
     "output_type": "execute_result"
    },
    {
     "data": {
      "image/png": "[encoded data removed]",
      "text/plain": [
       "<Figure size 432x288 with 1 Axes>"
      ]
     },
     "metadata": {
      "needs_background": "light"
     },
     "output_type": "display_data"
    }
   ],
   "source": [
    "normalized_col = data['color_intensity']**(1/2)\n",
    "plt.hist(normalized_col, bins=25)"
   ]
  },
  {
   "attachments": {},
   "cell_type": "markdown",
   "metadata": {},
   "source": [
    "### Отбор признаков с использованием метода вложений  на основе логистической регрессии"
   ]
  },
  {
   "cell_type": "code",
   "execution_count": 70,
   "metadata": {},
   "outputs": [
    {
     "data": {
      "text/plain": [
       "[(0,\n",
       "  array([-0.48482606,  0.67937441,  1.27447473, -0.62875154, -0.03577108,\n",
       "          0.        ,  1.56774205,  0.        ,  0.        , -0.02354309,\n",
       "          0.        ,  0.34684265,  0.01583498])),\n",
       " (1,\n",
       "  array([ 0.97728155, -1.20351848, -0.30999219,  0.23591953,  0.00623563,\n",
       "          0.        ,  0.65441449,  0.        ,  0.66364315, -1.98995471,\n",
       "          0.85018826,  0.        , -0.01345867])),\n",
       " (2,\n",
       "  array([-1.49623840e-02,  4.19193985e-01,  0.00000000e+00,  5.47126149e-02,\n",
       "          3.49160280e-03,  0.00000000e+00, -3.50536001e+00,  0.00000000e+00,\n",
       "          0.00000000e+00,  1.02349077e+00,  0.00000000e+00, -1.49249552e+00,\n",
       "         -1.01482097e-04]))]"
      ]
     },
     "execution_count": 70,
     "metadata": {},
     "output_type": "execute_result"
    }
   ],
   "source": [
    "e_lr1 = LogisticRegression(C=1, solver='liblinear', penalty='l1', max_iter=500)\n",
    "e_lr1.fit(X, Y)\n",
    "list(zip(e_lr1.classes_, e_lr1.coef_))"
   ]
  },
  {
   "cell_type": "code",
   "execution_count": 71,
   "metadata": {},
   "outputs": [
    {
     "data": {
      "text/plain": [
       "array([ True,  True,  True,  True,  True, False,  True, False,  True,\n",
       "        True,  True,  True,  True])"
      ]
     },
     "execution_count": 71,
     "metadata": {},
     "output_type": "execute_result"
    }
   ],
   "source": [
    "sel_e_lr1 = SelectFromModel(e_lr1)\n",
    "sel_e_lr1.fit(X, Y)\n",
    "sel_e_lr1.get_support()"
   ]
  }
 ],
 "metadata": {
  "kernelspec": {
   "display_name": "Python 3",
   "language": "python",
   "name": "python3"
  },
  "language_info": {
   "codemirror_mode": {
    "name": "ipython",
    "version": 3
   },
   "file_extension": ".py",
   "mimetype": "text/x-python",
   "name": "python",
   "nbconvert_exporter": "python",
   "pygments_lexer": "ipython3",
   "version": "3.9.5"
  },
  "orig_nbformat": 4
 },
 "nbformat": 4,
 "nbformat_minor": 2
}
